{
 "cells": [
  {
   "cell_type": "markdown",
   "id": "3e894d56-c98f-4832-a399-631cab3f7b5b",
   "metadata": {},
   "source": [
    "# Weather API from OpenWeather:"
   ]
  },
  {
   "cell_type": "markdown",
   "id": "c5b279dd-6f1c-4960-8b73-c3e3dea3ef71",
   "metadata": {},
   "source": [
    "### Importing and installing "
   ]
  },
  {
   "cell_type": "code",
   "execution_count": 3,
   "id": "b7da62e7-ced9-496e-8513-449f90b286ab",
   "metadata": {},
   "outputs": [
    {
     "name": "stdout",
     "output_type": "stream",
     "text": [
      "Requirement already satisfied: pandas in c:\\users\\hamza\\appdata\\local\\programs\\python\\python313\\lib\\site-packages (2.2.3)\n",
      "Requirement already satisfied: numpy>=1.26.0 in c:\\users\\hamza\\appdata\\local\\programs\\python\\python313\\lib\\site-packages (from pandas) (2.2.3)\n",
      "Requirement already satisfied: python-dateutil>=2.8.2 in c:\\users\\hamza\\appdata\\local\\programs\\python\\python313\\lib\\site-packages (from pandas) (2.9.0.post0)\n",
      "Requirement already satisfied: pytz>=2020.1 in c:\\users\\hamza\\appdata\\local\\programs\\python\\python313\\lib\\site-packages (from pandas) (2025.1)\n",
      "Requirement already satisfied: tzdata>=2022.7 in c:\\users\\hamza\\appdata\\local\\programs\\python\\python313\\lib\\site-packages (from pandas) (2025.1)\n",
      "Requirement already satisfied: six>=1.5 in c:\\users\\hamza\\appdata\\local\\programs\\python\\python313\\lib\\site-packages (from python-dateutil>=2.8.2->pandas) (1.17.0)\n"
     ]
    }
   ],
   "source": [
    "!pip install pandas\n",
    "import pandas as pd"
   ]
  },
  {
   "cell_type": "code",
   "execution_count": 4,
   "id": "7f890540-52c6-44be-845d-a1291c5a1314",
   "metadata": {},
   "outputs": [],
   "source": [
    "import requests\n",
    "import datetime"
   ]
  },
  {
   "cell_type": "markdown",
   "id": "bad3f60a-cf7d-42f9-850c-ba5d6f1eef69",
   "metadata": {},
   "source": [
    "### Creating Dataframe with weather information using API"
   ]
  },
  {
   "cell_type": "code",
   "execution_count": 25,
   "id": "59e8ccf1-e6c9-4a98-9efe-31d64c7c5574",
   "metadata": {},
   "outputs": [],
   "source": [
    "schema = \"cities_info\"\n",
    "host = \"127.0.0.1\"\n",
    "user = \"root\"\n",
    "password = \"Bar!ah123\"\n",
    "port = 3306\n",
    "\n",
    "connection_string = f'mysql+pymysql://{user}:{password}@{host}:{port}/{schema}'"
   ]
  },
  {
   "cell_type": "code",
   "execution_count": 87,
   "id": "ef9e4c0f-b12f-48ca-a362-7672817b2b41",
   "metadata": {},
   "outputs": [],
   "source": [
    "cities= pd.read_sql('SELECT City_id, City, Latitude, Longitude FROM cities', con= connection_string)"
   ]
  },
  {
   "cell_type": "code",
   "execution_count": 118,
   "id": "00da6387-cfb8-453b-8f57-a2d5b3738167",
   "metadata": {},
   "outputs": [],
   "source": [
    "def weather_info(cities):\n",
    "    \n",
    "    # Initialize lists for storing data across multiple cities\n",
    "    all_city_data_parameters = []\n",
    "\n",
    "    temperature= []\n",
    "    min_temp= []\n",
    "    max_temp= []\n",
    "    humidity= []\n",
    "    wind_speed= []\n",
    "    description= []\n",
    "    date= []\n",
    "    time_retrieved= []\n",
    "\n",
    "    #API_key for weather api\n",
    "    api_key= '4f595dfdc7bef7c7ccc1ea5359271f95'\n",
    "\n",
    "    for index, row in cities.iterrows():\n",
    "        Latitude = row['Latitude']\n",
    "        Longitude = row['Longitude']\n",
    "        City= row['City']\n",
    "        \n",
    "        weather_api= requests.get(f'https://api.openweathermap.org/data/2.5/forecast?lat={Latitude}&lon={Longitude}&appid={api_key}&units=metric')\n",
    "\n",
    "        #Create json\n",
    "        weather_json =  weather_api.json()\n",
    "\n",
    "        for x in range(len(weather_json['list'])):\n",
    "            #Temperature \n",
    "            temperature.append(weather_json['list'][x]['main']['temp'])\n",
    "\n",
    "            #Min_Temperature & max_Temperature\n",
    "            min_temp.append(weather_json['list'][x]['main']['temp_min'])\n",
    "            max_temp.append(weather_json['list'][x]['main']['temp_max'])\n",
    "\n",
    "            #Humidity \n",
    "            humidity.append(weather_json['list'][x]['main']['humidity'])\n",
    "\n",
    "            #Wind Speed\n",
    "            wind_speed.append(weather_json['list'][x]['wind']['speed'])\n",
    "\n",
    "            #Description\n",
    "            description.append(weather_json['list'][x]['weather'][0]['description'])\n",
    "\n",
    "            #Time of record\n",
    "            date.append(weather_json['list'][x]['dt_txt'])\n",
    "\n",
    "            #Time when data retrieved\n",
    "            time_retrieved.append(datetime.datetime.now().strftime('%Y/%m/%d, %H:%M'))\n",
    "\n",
    "        #Creating DF for weather info\n",
    "        Parameters= pd.DataFrame({'City': City,\n",
    "                        'Date':date,\n",
    "                        'Temperature': temperature,\n",
    "                        'Minimum_Temperature': min_temp,\n",
    "                        'Maximum_Temperature': max_temp,\n",
    "                        'Humidity': humidity,\n",
    "                        'Wind_Speed': wind_speed,\n",
    "                        'Description': description,\n",
    "                        'Time_Retrieved': time_retrieved}\n",
    "      )\n",
    "        #Append the current city's data to the all_city_data list\n",
    "        all_city_data_parameters .append(Parameters)\n",
    "\n",
    "    #Concatenate all the dataframes in the list to a single dataframe\n",
    "    all_city_data_parameters = pd.concat(all_city_data_parameters, ignore_index=True)\n",
    "\n",
    "    return (all_city_data_parameters)"
   ]
  },
  {
   "cell_type": "markdown",
   "id": "bbfa54e9-4973-4365-a468-a29639c30719",
   "metadata": {},
   "source": [
    "#### Just a small check"
   ]
  },
  {
   "cell_type": "code",
   "execution_count": 119,
   "id": "39fb269f-9fa4-44d5-a393-c2b94c173ceb",
   "metadata": {},
   "outputs": [],
   "source": [
    "weather_df= weather_info(cities)"
   ]
  },
  {
   "cell_type": "code",
   "execution_count": 120,
   "id": "dff125a2-4c97-4861-a941-34094fa7be52",
   "metadata": {},
   "outputs": [
    {
     "data": {
      "text/plain": [
       "array(['Berlin', 'Hamburg', 'Munich'], dtype=object)"
      ]
     },
     "execution_count": 120,
     "metadata": {},
     "output_type": "execute_result"
    }
   ],
   "source": [
    "weather_df['City'].unique()"
   ]
  },
  {
   "cell_type": "code",
   "execution_count": 121,
   "id": "bc28d053-eedc-4097-9bc7-2c781eba3003",
   "metadata": {},
   "outputs": [
    {
     "data": {
      "text/plain": [
       "240"
      ]
     },
     "execution_count": 121,
     "metadata": {},
     "output_type": "execute_result"
    }
   ],
   "source": [
    "len(weather_df)"
   ]
  },
  {
   "cell_type": "code",
   "execution_count": 122,
   "id": "40365e0f-3b8c-4841-bee9-46f9baf3f997",
   "metadata": {},
   "outputs": [
    {
     "name": "stdout",
     "output_type": "stream",
     "text": [
      "<class 'pandas.core.frame.DataFrame'>\n",
      "RangeIndex: 240 entries, 0 to 239\n",
      "Data columns (total 9 columns):\n",
      " #   Column               Non-Null Count  Dtype  \n",
      "---  ------               --------------  -----  \n",
      " 0   City                 240 non-null    object \n",
      " 1   Date                 240 non-null    object \n",
      " 2   Temperature          240 non-null    float64\n",
      " 3   Minimum_Temperature  240 non-null    float64\n",
      " 4   Maximum_Temperature  240 non-null    float64\n",
      " 5   Humidity             240 non-null    int64  \n",
      " 6   Wind_Speed           240 non-null    float64\n",
      " 7   Description          240 non-null    object \n",
      " 8   Time_Retrieved       240 non-null    object \n",
      "dtypes: float64(4), int64(1), object(4)\n",
      "memory usage: 17.0+ KB\n"
     ]
    }
   ],
   "source": [
    "weather_df.info()"
   ]
  },
  {
   "cell_type": "code",
   "execution_count": 123,
   "id": "486ddfd6-0d88-475e-a5ed-4a36f5b5edba",
   "metadata": {},
   "outputs": [],
   "source": [
    "weather_df['Date']= pd.to_datetime(weather_df['Date'])\n",
    "weather_df['Time_Retrieved']= pd.to_datetime(weather_df['Time_Retrieved'])"
   ]
  },
  {
   "cell_type": "code",
   "execution_count": 124,
   "id": "b3e86035-f692-4cfd-84e9-21c4c7adc195",
   "metadata": {},
   "outputs": [
    {
     "data": {
      "text/html": [
       "<div>\n",
       "<style scoped>\n",
       "    .dataframe tbody tr th:only-of-type {\n",
       "        vertical-align: middle;\n",
       "    }\n",
       "\n",
       "    .dataframe tbody tr th {\n",
       "        vertical-align: top;\n",
       "    }\n",
       "\n",
       "    .dataframe thead th {\n",
       "        text-align: right;\n",
       "    }\n",
       "</style>\n",
       "<table border=\"1\" class=\"dataframe\">\n",
       "  <thead>\n",
       "    <tr style=\"text-align: right;\">\n",
       "      <th></th>\n",
       "      <th>City</th>\n",
       "      <th>Date</th>\n",
       "      <th>Temperature</th>\n",
       "      <th>Minimum_Temperature</th>\n",
       "      <th>Maximum_Temperature</th>\n",
       "      <th>Humidity</th>\n",
       "      <th>Wind_Speed</th>\n",
       "      <th>Description</th>\n",
       "      <th>Time_Retrieved</th>\n",
       "    </tr>\n",
       "  </thead>\n",
       "  <tbody>\n",
       "    <tr>\n",
       "      <th>0</th>\n",
       "      <td>Berlin</td>\n",
       "      <td>2025-03-20 21:00:00</td>\n",
       "      <td>8.14</td>\n",
       "      <td>8.14</td>\n",
       "      <td>8.14</td>\n",
       "      <td>61</td>\n",
       "      <td>2.23</td>\n",
       "      <td>broken clouds</td>\n",
       "      <td>2025-03-20 20:51:00</td>\n",
       "    </tr>\n",
       "    <tr>\n",
       "      <th>1</th>\n",
       "      <td>Berlin</td>\n",
       "      <td>2025-03-21 00:00:00</td>\n",
       "      <td>7.83</td>\n",
       "      <td>7.21</td>\n",
       "      <td>7.83</td>\n",
       "      <td>62</td>\n",
       "      <td>1.59</td>\n",
       "      <td>broken clouds</td>\n",
       "      <td>2025-03-20 20:51:00</td>\n",
       "    </tr>\n",
       "    <tr>\n",
       "      <th>2</th>\n",
       "      <td>Berlin</td>\n",
       "      <td>2025-03-21 03:00:00</td>\n",
       "      <td>6.65</td>\n",
       "      <td>5.91</td>\n",
       "      <td>6.65</td>\n",
       "      <td>66</td>\n",
       "      <td>1.97</td>\n",
       "      <td>broken clouds</td>\n",
       "      <td>2025-03-20 20:51:00</td>\n",
       "    </tr>\n",
       "    <tr>\n",
       "      <th>3</th>\n",
       "      <td>Berlin</td>\n",
       "      <td>2025-03-21 06:00:00</td>\n",
       "      <td>6.21</td>\n",
       "      <td>6.21</td>\n",
       "      <td>6.21</td>\n",
       "      <td>75</td>\n",
       "      <td>1.09</td>\n",
       "      <td>scattered clouds</td>\n",
       "      <td>2025-03-20 20:51:00</td>\n",
       "    </tr>\n",
       "    <tr>\n",
       "      <th>4</th>\n",
       "      <td>Berlin</td>\n",
       "      <td>2025-03-21 09:00:00</td>\n",
       "      <td>12.68</td>\n",
       "      <td>12.68</td>\n",
       "      <td>12.68</td>\n",
       "      <td>57</td>\n",
       "      <td>2.18</td>\n",
       "      <td>few clouds</td>\n",
       "      <td>2025-03-20 20:51:00</td>\n",
       "    </tr>\n",
       "  </tbody>\n",
       "</table>\n",
       "</div>"
      ],
      "text/plain": [
       "     City                Date  Temperature  Minimum_Temperature  \\\n",
       "0  Berlin 2025-03-20 21:00:00         8.14                 8.14   \n",
       "1  Berlin 2025-03-21 00:00:00         7.83                 7.21   \n",
       "2  Berlin 2025-03-21 03:00:00         6.65                 5.91   \n",
       "3  Berlin 2025-03-21 06:00:00         6.21                 6.21   \n",
       "4  Berlin 2025-03-21 09:00:00        12.68                12.68   \n",
       "\n",
       "   Maximum_Temperature  Humidity  Wind_Speed       Description  \\\n",
       "0                 8.14        61        2.23     broken clouds   \n",
       "1                 7.83        62        1.59     broken clouds   \n",
       "2                 6.65        66        1.97     broken clouds   \n",
       "3                 6.21        75        1.09  scattered clouds   \n",
       "4                12.68        57        2.18        few clouds   \n",
       "\n",
       "       Time_Retrieved  \n",
       "0 2025-03-20 20:51:00  \n",
       "1 2025-03-20 20:51:00  \n",
       "2 2025-03-20 20:51:00  \n",
       "3 2025-03-20 20:51:00  \n",
       "4 2025-03-20 20:51:00  "
      ]
     },
     "execution_count": 124,
     "metadata": {},
     "output_type": "execute_result"
    }
   ],
   "source": [
    "weather_df.head()"
   ]
  },
  {
   "cell_type": "code",
   "execution_count": 89,
   "id": "0ccebec3-4b42-41d4-865b-0a63ea10aa79",
   "metadata": {},
   "outputs": [
    {
     "data": {
      "text/html": [
       "<div>\n",
       "<style scoped>\n",
       "    .dataframe tbody tr th:only-of-type {\n",
       "        vertical-align: middle;\n",
       "    }\n",
       "\n",
       "    .dataframe tbody tr th {\n",
       "        vertical-align: top;\n",
       "    }\n",
       "\n",
       "    .dataframe thead th {\n",
       "        text-align: right;\n",
       "    }\n",
       "</style>\n",
       "<table border=\"1\" class=\"dataframe\">\n",
       "  <thead>\n",
       "    <tr style=\"text-align: right;\">\n",
       "      <th></th>\n",
       "      <th>City_id</th>\n",
       "      <th>City</th>\n",
       "      <th>Latitude</th>\n",
       "      <th>Longitude</th>\n",
       "    </tr>\n",
       "  </thead>\n",
       "  <tbody>\n",
       "    <tr>\n",
       "      <th>0</th>\n",
       "      <td>1</td>\n",
       "      <td>Berlin</td>\n",
       "      <td>53.0</td>\n",
       "      <td>13.0</td>\n",
       "    </tr>\n",
       "    <tr>\n",
       "      <th>1</th>\n",
       "      <td>2</td>\n",
       "      <td>Hamburg</td>\n",
       "      <td>54.0</td>\n",
       "      <td>10.0</td>\n",
       "    </tr>\n",
       "    <tr>\n",
       "      <th>2</th>\n",
       "      <td>3</td>\n",
       "      <td>Munich</td>\n",
       "      <td>48.0</td>\n",
       "      <td>12.0</td>\n",
       "    </tr>\n",
       "  </tbody>\n",
       "</table>\n",
       "</div>"
      ],
      "text/plain": [
       "   City_id     City  Latitude  Longitude\n",
       "0        1   Berlin      53.0       13.0\n",
       "1        2  Hamburg      54.0       10.0\n",
       "2        3   Munich      48.0       12.0"
      ]
     },
     "execution_count": 89,
     "metadata": {},
     "output_type": "execute_result"
    }
   ],
   "source": [
    "cities"
   ]
  },
  {
   "cell_type": "markdown",
   "id": "502b2cdf-4aa0-4dad-b73f-860078cc5ddd",
   "metadata": {},
   "source": [
    "### Merging two dataframes (cities & weather_df) to get weather_info with city_id rather than city and dropping columns we don't require"
   ]
  },
  {
   "cell_type": "code",
   "execution_count": 93,
   "id": "032ce942-2327-4727-9b48-20188966c585",
   "metadata": {},
   "outputs": [],
   "source": [
    "city_weather_info= pd.merge(weather_df, cities, how='left', on='City')"
   ]
  },
  {
   "cell_type": "code",
   "execution_count": 95,
   "id": "4fd62beb-3dee-4f5e-aa6f-532771357dd4",
   "metadata": {},
   "outputs": [],
   "source": [
    "city_weather_info= city_weather_info.drop(['City', 'Latitude', 'Longitude'], axis= 1)"
   ]
  },
  {
   "cell_type": "code",
   "execution_count": 96,
   "id": "e9384e13-e69d-4074-890d-165dd81d1075",
   "metadata": {},
   "outputs": [
    {
     "data": {
      "text/html": [
       "<div>\n",
       "<style scoped>\n",
       "    .dataframe tbody tr th:only-of-type {\n",
       "        vertical-align: middle;\n",
       "    }\n",
       "\n",
       "    .dataframe tbody tr th {\n",
       "        vertical-align: top;\n",
       "    }\n",
       "\n",
       "    .dataframe thead th {\n",
       "        text-align: right;\n",
       "    }\n",
       "</style>\n",
       "<table border=\"1\" class=\"dataframe\">\n",
       "  <thead>\n",
       "    <tr style=\"text-align: right;\">\n",
       "      <th></th>\n",
       "      <th>Date</th>\n",
       "      <th>Temperature</th>\n",
       "      <th>Minimum_Temperature</th>\n",
       "      <th>Maximum_Temperature</th>\n",
       "      <th>Humidity</th>\n",
       "      <th>Wind_Speed</th>\n",
       "      <th>Description</th>\n",
       "      <th>Time_Retrieved</th>\n",
       "      <th>City_id</th>\n",
       "    </tr>\n",
       "  </thead>\n",
       "  <tbody>\n",
       "    <tr>\n",
       "      <th>0</th>\n",
       "      <td>2025-03-20 21:00:00</td>\n",
       "      <td>9.35</td>\n",
       "      <td>8.14</td>\n",
       "      <td>9.35</td>\n",
       "      <td>58</td>\n",
       "      <td>2.23</td>\n",
       "      <td>scattered clouds</td>\n",
       "      <td>2025/03/20, 20:12</td>\n",
       "      <td>1</td>\n",
       "    </tr>\n",
       "    <tr>\n",
       "      <th>1</th>\n",
       "      <td>2025-03-21 00:00:00</td>\n",
       "      <td>8.12</td>\n",
       "      <td>7.21</td>\n",
       "      <td>8.12</td>\n",
       "      <td>62</td>\n",
       "      <td>1.59</td>\n",
       "      <td>broken clouds</td>\n",
       "      <td>2025/03/20, 20:12</td>\n",
       "      <td>1</td>\n",
       "    </tr>\n",
       "    <tr>\n",
       "      <th>2</th>\n",
       "      <td>2025-03-21 03:00:00</td>\n",
       "      <td>5.91</td>\n",
       "      <td>5.91</td>\n",
       "      <td>5.91</td>\n",
       "      <td>68</td>\n",
       "      <td>1.97</td>\n",
       "      <td>scattered clouds</td>\n",
       "      <td>2025/03/20, 20:12</td>\n",
       "      <td>1</td>\n",
       "    </tr>\n",
       "    <tr>\n",
       "      <th>3</th>\n",
       "      <td>2025-03-21 06:00:00</td>\n",
       "      <td>6.21</td>\n",
       "      <td>6.21</td>\n",
       "      <td>6.21</td>\n",
       "      <td>75</td>\n",
       "      <td>1.09</td>\n",
       "      <td>scattered clouds</td>\n",
       "      <td>2025/03/20, 20:12</td>\n",
       "      <td>1</td>\n",
       "    </tr>\n",
       "    <tr>\n",
       "      <th>4</th>\n",
       "      <td>2025-03-21 09:00:00</td>\n",
       "      <td>12.68</td>\n",
       "      <td>12.68</td>\n",
       "      <td>12.68</td>\n",
       "      <td>57</td>\n",
       "      <td>2.18</td>\n",
       "      <td>few clouds</td>\n",
       "      <td>2025/03/20, 20:12</td>\n",
       "      <td>1</td>\n",
       "    </tr>\n",
       "    <tr>\n",
       "      <th>...</th>\n",
       "      <td>...</td>\n",
       "      <td>...</td>\n",
       "      <td>...</td>\n",
       "      <td>...</td>\n",
       "      <td>...</td>\n",
       "      <td>...</td>\n",
       "      <td>...</td>\n",
       "      <td>...</td>\n",
       "      <td>...</td>\n",
       "    </tr>\n",
       "    <tr>\n",
       "      <th>235</th>\n",
       "      <td>2025-03-25 06:00:00</td>\n",
       "      <td>6.41</td>\n",
       "      <td>6.41</td>\n",
       "      <td>6.41</td>\n",
       "      <td>91</td>\n",
       "      <td>0.91</td>\n",
       "      <td>overcast clouds</td>\n",
       "      <td>2025/03/20, 20:12</td>\n",
       "      <td>3</td>\n",
       "    </tr>\n",
       "    <tr>\n",
       "      <th>236</th>\n",
       "      <td>2025-03-25 09:00:00</td>\n",
       "      <td>9.46</td>\n",
       "      <td>9.46</td>\n",
       "      <td>9.46</td>\n",
       "      <td>78</td>\n",
       "      <td>0.49</td>\n",
       "      <td>light rain</td>\n",
       "      <td>2025/03/20, 20:12</td>\n",
       "      <td>3</td>\n",
       "    </tr>\n",
       "    <tr>\n",
       "      <th>237</th>\n",
       "      <td>2025-03-25 12:00:00</td>\n",
       "      <td>12.78</td>\n",
       "      <td>12.78</td>\n",
       "      <td>12.78</td>\n",
       "      <td>62</td>\n",
       "      <td>0.83</td>\n",
       "      <td>light rain</td>\n",
       "      <td>2025/03/20, 20:12</td>\n",
       "      <td>3</td>\n",
       "    </tr>\n",
       "    <tr>\n",
       "      <th>238</th>\n",
       "      <td>2025-03-25 15:00:00</td>\n",
       "      <td>10.53</td>\n",
       "      <td>10.53</td>\n",
       "      <td>10.53</td>\n",
       "      <td>78</td>\n",
       "      <td>1.84</td>\n",
       "      <td>light rain</td>\n",
       "      <td>2025/03/20, 20:12</td>\n",
       "      <td>3</td>\n",
       "    </tr>\n",
       "    <tr>\n",
       "      <th>239</th>\n",
       "      <td>2025-03-25 18:00:00</td>\n",
       "      <td>8.04</td>\n",
       "      <td>8.04</td>\n",
       "      <td>8.04</td>\n",
       "      <td>90</td>\n",
       "      <td>1.11</td>\n",
       "      <td>light rain</td>\n",
       "      <td>2025/03/20, 20:12</td>\n",
       "      <td>3</td>\n",
       "    </tr>\n",
       "  </tbody>\n",
       "</table>\n",
       "<p>240 rows × 9 columns</p>\n",
       "</div>"
      ],
      "text/plain": [
       "                    Date  Temperature  Minimum_Temperature  \\\n",
       "0    2025-03-20 21:00:00         9.35                 8.14   \n",
       "1    2025-03-21 00:00:00         8.12                 7.21   \n",
       "2    2025-03-21 03:00:00         5.91                 5.91   \n",
       "3    2025-03-21 06:00:00         6.21                 6.21   \n",
       "4    2025-03-21 09:00:00        12.68                12.68   \n",
       "..                   ...          ...                  ...   \n",
       "235  2025-03-25 06:00:00         6.41                 6.41   \n",
       "236  2025-03-25 09:00:00         9.46                 9.46   \n",
       "237  2025-03-25 12:00:00        12.78                12.78   \n",
       "238  2025-03-25 15:00:00        10.53                10.53   \n",
       "239  2025-03-25 18:00:00         8.04                 8.04   \n",
       "\n",
       "     Maximum_Temperature  Humidity  Wind_Speed       Description  \\\n",
       "0                   9.35        58        2.23  scattered clouds   \n",
       "1                   8.12        62        1.59     broken clouds   \n",
       "2                   5.91        68        1.97  scattered clouds   \n",
       "3                   6.21        75        1.09  scattered clouds   \n",
       "4                  12.68        57        2.18        few clouds   \n",
       "..                   ...       ...         ...               ...   \n",
       "235                 6.41        91        0.91   overcast clouds   \n",
       "236                 9.46        78        0.49        light rain   \n",
       "237                12.78        62        0.83        light rain   \n",
       "238                10.53        78        1.84        light rain   \n",
       "239                 8.04        90        1.11        light rain   \n",
       "\n",
       "        Time_Retrieved  City_id  \n",
       "0    2025/03/20, 20:12        1  \n",
       "1    2025/03/20, 20:12        1  \n",
       "2    2025/03/20, 20:12        1  \n",
       "3    2025/03/20, 20:12        1  \n",
       "4    2025/03/20, 20:12        1  \n",
       "..                 ...      ...  \n",
       "235  2025/03/20, 20:12        3  \n",
       "236  2025/03/20, 20:12        3  \n",
       "237  2025/03/20, 20:12        3  \n",
       "238  2025/03/20, 20:12        3  \n",
       "239  2025/03/20, 20:12        3  \n",
       "\n",
       "[240 rows x 9 columns]"
      ]
     },
     "execution_count": 96,
     "metadata": {},
     "output_type": "execute_result"
    }
   ],
   "source": [
    "city_weather_info"
   ]
  },
  {
   "cell_type": "markdown",
   "id": "af816021-0207-4a1f-81ce-04fe6a88867a",
   "metadata": {},
   "source": [
    "### Pushing info to sql database"
   ]
  },
  {
   "cell_type": "code",
   "execution_count": 108,
   "id": "9653e692-2399-4a9a-b226-34f023432c35",
   "metadata": {},
   "outputs": [
    {
     "data": {
      "text/plain": [
       "240"
      ]
     },
     "execution_count": 108,
     "metadata": {},
     "output_type": "execute_result"
    }
   ],
   "source": [
    "#Transfer it to sql\n",
    "city_weather_info.to_sql('weather',\n",
    "                      if_exists = 'append',\n",
    "                      con= connection_string,\n",
    "                      index= False\n",
    ")"
   ]
  }
 ],
 "metadata": {
  "kernelspec": {
   "display_name": "Python 3 (ipykernel)",
   "language": "python",
   "name": "python3"
  },
  "language_info": {
   "codemirror_mode": {
    "name": "ipython",
    "version": 3
   },
   "file_extension": ".py",
   "mimetype": "text/x-python",
   "name": "python",
   "nbconvert_exporter": "python",
   "pygments_lexer": "ipython3",
   "version": "3.13.2"
  }
 },
 "nbformat": 4,
 "nbformat_minor": 5
}
