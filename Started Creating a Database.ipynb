{
 "cells": [
  {
   "cell_type": "markdown",
   "id": "9b2ccafb-b1e7-42bb-8a2f-eca66d30175c",
   "metadata": {},
   "source": [
    "### Creating Dataframes of Cities and Population"
   ]
  },
  {
   "cell_type": "code",
   "execution_count": 57,
   "id": "bb9e78b8-a311-4d75-85e5-dc4230208c5a",
   "metadata": {},
   "outputs": [
    {
     "name": "stdout",
     "output_type": "stream",
     "text": [
      "Requirement already satisfied: dotenv in c:\\users\\hamza\\appdata\\local\\programs\\python\\python313\\lib\\site-packages (0.9.9)\n",
      "Requirement already satisfied: python-dotenv in c:\\users\\hamza\\appdata\\local\\programs\\python\\python313\\lib\\site-packages (from dotenv) (1.1.0)\n"
     ]
    }
   ],
   "source": [
    "!pip install dotenv"
   ]
  },
  {
   "cell_type": "code",
   "execution_count": 59,
   "id": "f2a07458-d94d-460d-9c9a-5454b8132661",
   "metadata": {},
   "outputs": [
    {
     "data": {
      "text/plain": [
       "True"
      ]
     },
     "execution_count": 59,
     "metadata": {},
     "output_type": "execute_result"
    }
   ],
   "source": [
    "import dotenv\n",
    "import os \n",
    "dotenv.load_dotenv()"
   ]
  },
  {
   "cell_type": "code",
   "execution_count": 46,
   "id": "5142e84b-0748-4fef-a192-618eaebd6635",
   "metadata": {},
   "outputs": [],
   "source": [
    "import requests\n",
    "from bs4 import BeautifulSoup"
   ]
  },
  {
   "cell_type": "code",
   "execution_count": 47,
   "id": "9e1d4a5d-7e32-426f-a957-bc4c3341cf88",
   "metadata": {},
   "outputs": [
    {
     "name": "stdout",
     "output_type": "stream",
     "text": [
      "Requirement already satisfied: lat-lon-parser in c:\\users\\hamza\\appdata\\local\\programs\\python\\python313\\lib\\site-packages (1.3.1)\n"
     ]
    }
   ],
   "source": [
    "import re\n",
    "!pip install lat-lon-parser\n",
    "from lat_lon_parser import parse"
   ]
  },
  {
   "cell_type": "code",
   "execution_count": 48,
   "id": "94fd5293-7ada-4575-ac9e-720b20337a3c",
   "metadata": {},
   "outputs": [
    {
     "name": "stdout",
     "output_type": "stream",
     "text": [
      "Requirement already satisfied: pandas in c:\\users\\hamza\\appdata\\local\\programs\\python\\python313\\lib\\site-packages (2.2.3)\n",
      "Requirement already satisfied: numpy>=1.26.0 in c:\\users\\hamza\\appdata\\local\\programs\\python\\python313\\lib\\site-packages (from pandas) (2.2.3)\n",
      "Requirement already satisfied: python-dateutil>=2.8.2 in c:\\users\\hamza\\appdata\\local\\programs\\python\\python313\\lib\\site-packages (from pandas) (2.9.0.post0)\n",
      "Requirement already satisfied: pytz>=2020.1 in c:\\users\\hamza\\appdata\\local\\programs\\python\\python313\\lib\\site-packages (from pandas) (2025.1)\n",
      "Requirement already satisfied: tzdata>=2022.7 in c:\\users\\hamza\\appdata\\local\\programs\\python\\python313\\lib\\site-packages (from pandas) (2025.1)\n",
      "Requirement already satisfied: six>=1.5 in c:\\users\\hamza\\appdata\\local\\programs\\python\\python313\\lib\\site-packages (from python-dateutil>=2.8.2->pandas) (1.17.0)\n"
     ]
    }
   ],
   "source": [
    "!pip install pandas\n",
    "import pandas as pd"
   ]
  },
  {
   "cell_type": "code",
   "execution_count": 49,
   "id": "d2bc5758-a864-45ab-9f1d-edf852ff10c6",
   "metadata": {},
   "outputs": [],
   "source": [
    "#Creating function for city's data\n",
    "\n",
    "def city_info(cities):\n",
    "  city_data = []  # List to store the city info\n",
    "\n",
    "  for city_name in cities: # Changed city to city_name\n",
    "     url = f'https://en.wikipedia.org/wiki/{city_name}' # Using city_name for the url\n",
    "     response = requests.get(url)\n",
    "     if response.status_code != 200:\n",
    "            print(f\"Failed to load page for {city_name}. Status code: {response.status_code}\")\n",
    "            continue\n",
    "     else:\n",
    "            city_soup = BeautifulSoup(response.content, 'html.parser')  # assign to city_soup\n",
    "#City\n",
    "     city_name_element = city_soup.find('span', class_= \"mw-page-title-main\")\n",
    "     city_name = city_name_element.text if city_name_element else None # handle cases where the element is not found\n",
    "\n",
    "#Country\n",
    "     country_element = city_soup.find('th', string='Country').find_next('td')\n",
    "     country_match = re.search(r'([A-Za-z\\s,\\(\\)]+)', country_element.text)\n",
    "     country = country_match.group(1).strip() if country_match else None\n",
    "     # handle cases where the element is not found\n",
    "\n",
    "#Latitude\n",
    "     lat_element = city_soup.find('span', class_= 'latitude')\n",
    "     lat = lat_element.text if lat_element else None # handle cases where the element is not found\n",
    "\n",
    "#Longitude\n",
    "     lon_element = city_soup.find('span', class_= 'longitude')\n",
    "     lon = lon_element.text if lon_element else None # handle cases where the element is not found\n",
    "\n",
    "\n",
    "# Appending city info to the list\n",
    "     city_data.append({'City': city_name, 'Country': country, 'Latitude': parse(lat), 'Longitude': parse(lon)})  #parse changes long and lat into decimal\n",
    "\n",
    "  dataframe= pd.DataFrame(city_data)\n",
    "  return dataframe"
   ]
  },
  {
   "cell_type": "code",
   "execution_count": 50,
   "id": "1dbfe5ee-a9c9-4df8-9862-8a33c2fdcb8f",
   "metadata": {},
   "outputs": [],
   "source": [
    "cities_df= city_info(['Berlin','Hamburg', 'Munich'])"
   ]
  },
  {
   "cell_type": "code",
   "execution_count": 51,
   "id": "37ae5a5c-6981-4762-8ad4-baf225a7b972",
   "metadata": {},
   "outputs": [],
   "source": [
    "#For Timestamp\n",
    "import datetime"
   ]
  },
  {
   "cell_type": "code",
   "execution_count": 52,
   "id": "dc59bbf4-6652-476b-8638-8f405f405415",
   "metadata": {},
   "outputs": [],
   "source": [
    "#Creating Function for Population of city/cities\n",
    "\n",
    "def pop_info(cities):\n",
    "  city_pop_data = []  # List to store the city info\n",
    "\n",
    "  for city_name in cities: # Changed city to city_name\n",
    "     url = f'https://en.wikipedia.org/wiki/{city_name}' # Using city_name for the url\n",
    "     response = requests.get(url)\n",
    "     if response.status_code != 200:\n",
    "            print(f\"Failed to load page for {city_name}. Status code: {response.status_code}\")\n",
    "            continue\n",
    "     else:\n",
    "            city_soup = BeautifulSoup(response.content, 'html.parser')  # assign to city_soup\n",
    "\n",
    "\n",
    "            pop = city_soup.find(string='Population').find_next(string=re.compile(r'\\d+,\\d+,\\d+'))\n",
    "            pop = pop.replace(',', '')  #in case want to remove commas\n",
    "            pop = int(pop)\n",
    "            times= datetime.datetime.now().strftime(\"%Y-%m-%d %H:%M:%S\")\n",
    "\n",
    "\n",
    "\n",
    "# Appending city info to the list\n",
    "     city_pop_data.append({'City': city_name, 'Population': pop, 'Timestamp_data_retrieved': times})\n",
    "\n",
    "  dataframe= pd.DataFrame(city_pop_data)\n",
    "  return dataframe"
   ]
  },
  {
   "cell_type": "code",
   "execution_count": 53,
   "id": "8c64d0db-2ab8-41a6-8bf0-643d2f1698a8",
   "metadata": {},
   "outputs": [],
   "source": [
    "population_df= pop_info(['Berlin','Hamburg', 'Munich'])"
   ]
  },
  {
   "cell_type": "code",
   "execution_count": 54,
   "id": "24b3aa8f-1bb2-4194-b22a-1fc6ef5e1c9a",
   "metadata": {},
   "outputs": [
    {
     "name": "stdout",
     "output_type": "stream",
     "text": [
      "Requirement already satisfied: sqlalchemy in c:\\users\\hamza\\appdata\\local\\programs\\python\\python313\\lib\\site-packages (2.0.39)\n",
      "Requirement already satisfied: greenlet!=0.4.17 in c:\\users\\hamza\\appdata\\local\\programs\\python\\python313\\lib\\site-packages (from sqlalchemy) (3.1.1)\n",
      "Requirement already satisfied: typing-extensions>=4.6.0 in c:\\users\\hamza\\appdata\\local\\programs\\python\\python313\\lib\\site-packages (from sqlalchemy) (4.12.2)\n",
      "Requirement already satisfied: pymysql in c:\\users\\hamza\\appdata\\local\\programs\\python\\python313\\lib\\site-packages (1.1.1)\n"
     ]
    }
   ],
   "source": [
    "#To establish a connection with the SQL database, we need to provide the notebook with the necessary information, \n",
    "# which we do using the connection string below.\n",
    "# install to enable the connection between Python and MYSQL databases managed through MYSQL Workbench\n",
    "!pip install sqlalchemy\n",
    "!pip install pymysql"
   ]
  },
  {
   "cell_type": "code",
   "execution_count": 60,
   "id": "373be02a-5c0e-4d6a-b435-888347d3218e",
   "metadata": {},
   "outputs": [],
   "source": [
    "schema = \"ganz\"\n",
    "host = \"127.0.0.1\"\n",
    "user = os.environ['user_name']\n",
    "password = os.environ['MYSQL_password']\n",
    "port = 3306\n",
    "\n",
    "connection_string = f'mysql+pymysql://{user}:{password}@{host}:{port}/{schema}'"
   ]
  },
  {
   "cell_type": "code",
   "execution_count": 61,
   "id": "f7684f83-bd57-4d28-bb33-7b7affb0497a",
   "metadata": {},
   "outputs": [
    {
     "data": {
      "text/plain": [
       "3"
      ]
     },
     "execution_count": 61,
     "metadata": {},
     "output_type": "execute_result"
    }
   ],
   "source": [
    "#Transfer scrapped data of three cities to sql database\n",
    "#First for table 'cities'\n",
    "\n",
    "cities_df.to_sql('cities',\n",
    "                 if_exists= 'append',\n",
    "                 con= connection_string,\n",
    "                 index= False)"
   ]
  },
  {
   "cell_type": "code",
   "execution_count": 62,
   "id": "ad69accd-7b27-44c9-98ce-aaa35265edbc",
   "metadata": {},
   "outputs": [
    {
     "data": {
      "text/html": [
       "<div>\n",
       "<style scoped>\n",
       "    .dataframe tbody tr th:only-of-type {\n",
       "        vertical-align: middle;\n",
       "    }\n",
       "\n",
       "    .dataframe tbody tr th {\n",
       "        vertical-align: top;\n",
       "    }\n",
       "\n",
       "    .dataframe thead th {\n",
       "        text-align: right;\n",
       "    }\n",
       "</style>\n",
       "<table border=\"1\" class=\"dataframe\">\n",
       "  <thead>\n",
       "    <tr style=\"text-align: right;\">\n",
       "      <th></th>\n",
       "      <th>City_id</th>\n",
       "      <th>City</th>\n",
       "      <th>Country</th>\n",
       "      <th>Latitude</th>\n",
       "      <th>Longitude</th>\n",
       "    </tr>\n",
       "  </thead>\n",
       "  <tbody>\n",
       "    <tr>\n",
       "      <th>0</th>\n",
       "      <td>1</td>\n",
       "      <td>Berlin</td>\n",
       "      <td>Germany</td>\n",
       "      <td>52.5200</td>\n",
       "      <td>13.405</td>\n",
       "    </tr>\n",
       "    <tr>\n",
       "      <th>1</th>\n",
       "      <td>2</td>\n",
       "      <td>Hamburg</td>\n",
       "      <td>Germany</td>\n",
       "      <td>53.5500</td>\n",
       "      <td>10.000</td>\n",
       "    </tr>\n",
       "    <tr>\n",
       "      <th>2</th>\n",
       "      <td>3</td>\n",
       "      <td>Munich</td>\n",
       "      <td>Germany</td>\n",
       "      <td>48.1375</td>\n",
       "      <td>11.575</td>\n",
       "    </tr>\n",
       "  </tbody>\n",
       "</table>\n",
       "</div>"
      ],
      "text/plain": [
       "   City_id     City  Country  Latitude  Longitude\n",
       "0        1   Berlin  Germany   52.5200     13.405\n",
       "1        2  Hamburg  Germany   53.5500     10.000\n",
       "2        3   Munich  Germany   48.1375     11.575"
      ]
     },
     "execution_count": 62,
     "metadata": {},
     "output_type": "execute_result"
    }
   ],
   "source": [
    "#Transfer scrapped data of three cities to SQL database\n",
    "#Then for table 'population'\n",
    "\n",
    "cities_from_sql= pd.read_sql('cities', con= connection_string)\n",
    "cities_from_sql"
   ]
  },
  {
   "cell_type": "code",
   "execution_count": 63,
   "id": "6c73424c-2358-4ad4-81fc-5f996bbb03cf",
   "metadata": {},
   "outputs": [
    {
     "data": {
      "text/html": [
       "<div>\n",
       "<style scoped>\n",
       "    .dataframe tbody tr th:only-of-type {\n",
       "        vertical-align: middle;\n",
       "    }\n",
       "\n",
       "    .dataframe tbody tr th {\n",
       "        vertical-align: top;\n",
       "    }\n",
       "\n",
       "    .dataframe thead th {\n",
       "        text-align: right;\n",
       "    }\n",
       "</style>\n",
       "<table border=\"1\" class=\"dataframe\">\n",
       "  <thead>\n",
       "    <tr style=\"text-align: right;\">\n",
       "      <th></th>\n",
       "      <th>City</th>\n",
       "      <th>Population</th>\n",
       "      <th>Timestamp_data_retrieved</th>\n",
       "      <th>City_id</th>\n",
       "      <th>Country</th>\n",
       "      <th>Latitude</th>\n",
       "      <th>Longitude</th>\n",
       "    </tr>\n",
       "  </thead>\n",
       "  <tbody>\n",
       "    <tr>\n",
       "      <th>0</th>\n",
       "      <td>Berlin</td>\n",
       "      <td>3596999</td>\n",
       "      <td>2025-04-02 19:28:19</td>\n",
       "      <td>1</td>\n",
       "      <td>Germany</td>\n",
       "      <td>52.5200</td>\n",
       "      <td>13.405</td>\n",
       "    </tr>\n",
       "    <tr>\n",
       "      <th>1</th>\n",
       "      <td>Hamburg</td>\n",
       "      <td>1964021</td>\n",
       "      <td>2025-04-02 19:28:21</td>\n",
       "      <td>2</td>\n",
       "      <td>Germany</td>\n",
       "      <td>53.5500</td>\n",
       "      <td>10.000</td>\n",
       "    </tr>\n",
       "    <tr>\n",
       "      <th>2</th>\n",
       "      <td>Munich</td>\n",
       "      <td>1510378</td>\n",
       "      <td>2025-04-02 19:28:22</td>\n",
       "      <td>3</td>\n",
       "      <td>Germany</td>\n",
       "      <td>48.1375</td>\n",
       "      <td>11.575</td>\n",
       "    </tr>\n",
       "  </tbody>\n",
       "</table>\n",
       "</div>"
      ],
      "text/plain": [
       "      City  Population Timestamp_data_retrieved  City_id  Country  Latitude  \\\n",
       "0   Berlin     3596999      2025-04-02 19:28:19        1  Germany   52.5200   \n",
       "1  Hamburg     1964021      2025-04-02 19:28:21        2  Germany   53.5500   \n",
       "2   Munich     1510378      2025-04-02 19:28:22        3  Germany   48.1375   \n",
       "\n",
       "   Longitude  \n",
       "0     13.405  \n",
       "1     10.000  \n",
       "2     11.575  "
      ]
     },
     "execution_count": 63,
     "metadata": {},
     "output_type": "execute_result"
    }
   ],
   "source": [
    "merged_df= population_df.merge(cities_from_sql,\n",
    "                              on= 'City',\n",
    "                              how= 'left')\n",
    "\n",
    "merged_df"
   ]
  },
  {
   "cell_type": "code",
   "execution_count": 64,
   "id": "b96d2370-dca3-4a4c-8ceb-45c168453db3",
   "metadata": {},
   "outputs": [
    {
     "data": {
      "text/html": [
       "<div>\n",
       "<style scoped>\n",
       "    .dataframe tbody tr th:only-of-type {\n",
       "        vertical-align: middle;\n",
       "    }\n",
       "\n",
       "    .dataframe tbody tr th {\n",
       "        vertical-align: top;\n",
       "    }\n",
       "\n",
       "    .dataframe thead th {\n",
       "        text-align: right;\n",
       "    }\n",
       "</style>\n",
       "<table border=\"1\" class=\"dataframe\">\n",
       "  <thead>\n",
       "    <tr style=\"text-align: right;\">\n",
       "      <th></th>\n",
       "      <th>City</th>\n",
       "      <th>Population</th>\n",
       "      <th>Timestamp_data_retrieved</th>\n",
       "      <th>City_id</th>\n",
       "    </tr>\n",
       "  </thead>\n",
       "  <tbody>\n",
       "    <tr>\n",
       "      <th>0</th>\n",
       "      <td>Berlin</td>\n",
       "      <td>3596999</td>\n",
       "      <td>2025-04-02 19:28:19</td>\n",
       "      <td>1</td>\n",
       "    </tr>\n",
       "    <tr>\n",
       "      <th>1</th>\n",
       "      <td>Hamburg</td>\n",
       "      <td>1964021</td>\n",
       "      <td>2025-04-02 19:28:21</td>\n",
       "      <td>2</td>\n",
       "    </tr>\n",
       "    <tr>\n",
       "      <th>2</th>\n",
       "      <td>Munich</td>\n",
       "      <td>1510378</td>\n",
       "      <td>2025-04-02 19:28:22</td>\n",
       "      <td>3</td>\n",
       "    </tr>\n",
       "  </tbody>\n",
       "</table>\n",
       "</div>"
      ],
      "text/plain": [
       "      City  Population Timestamp_data_retrieved  City_id\n",
       "0   Berlin     3596999      2025-04-02 19:28:19        1\n",
       "1  Hamburg     1964021      2025-04-02 19:28:21        2\n",
       "2   Munich     1510378      2025-04-02 19:28:22        3"
      ]
     },
     "execution_count": 64,
     "metadata": {},
     "output_type": "execute_result"
    }
   ],
   "source": [
    "merged_df= merged_df.drop(columns= ['Country', 'Latitude', 'Longitude'])\n",
    "merged_df"
   ]
  },
  {
   "cell_type": "code",
   "execution_count": 65,
   "id": "b779a1a5-b1fb-47b9-9d8b-c706c46835f8",
   "metadata": {},
   "outputs": [
    {
     "data": {
      "text/plain": [
       "3"
      ]
     },
     "execution_count": 65,
     "metadata": {},
     "output_type": "execute_result"
    }
   ],
   "source": [
    "#Transfer it to sql\n",
    "\n",
    "merged_df.to_sql('population',\n",
    "                 if_exists= 'append',\n",
    "                 con= connection_string,\n",
    "                 index= False)"
   ]
  }
 ],
 "metadata": {
  "kernelspec": {
   "display_name": "Python 3 (ipykernel)",
   "language": "python",
   "name": "python3"
  },
  "language_info": {
   "codemirror_mode": {
    "name": "ipython",
    "version": 3
   },
   "file_extension": ".py",
   "mimetype": "text/x-python",
   "name": "python",
   "nbconvert_exporter": "python",
   "pygments_lexer": "ipython3",
   "version": "3.13.2"
  }
 },
 "nbformat": 4,
 "nbformat_minor": 5
}
