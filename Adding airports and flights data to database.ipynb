{
 "cells": [
  {
   "cell_type": "code",
   "execution_count": 162,
   "id": "aab06f76-c67c-47fc-b35a-68bf9852b2c7",
   "metadata": {},
   "outputs": [
    {
     "name": "stdout",
     "output_type": "stream",
     "text": [
      "Requirement already satisfied: dotenv in c:\\users\\hamza\\appdata\\local\\programs\\python\\python313\\lib\\site-packages (0.9.9)\n",
      "Requirement already satisfied: python-dotenv in c:\\users\\hamza\\appdata\\local\\programs\\python\\python313\\lib\\site-packages (from dotenv) (1.1.0)\n"
     ]
    }
   ],
   "source": [
    "!pip install dotenv"
   ]
  },
  {
   "cell_type": "code",
   "execution_count": 163,
   "id": "386d13b9-454e-44bf-ac87-c34e74baf979",
   "metadata": {},
   "outputs": [
    {
     "name": "stdout",
     "output_type": "stream",
     "text": [
      "Requirement already satisfied: pandas in c:\\users\\hamza\\appdata\\local\\programs\\python\\python313\\lib\\site-packages (2.2.3)\n",
      "Requirement already satisfied: numpy>=1.26.0 in c:\\users\\hamza\\appdata\\local\\programs\\python\\python313\\lib\\site-packages (from pandas) (2.2.3)\n",
      "Requirement already satisfied: python-dateutil>=2.8.2 in c:\\users\\hamza\\appdata\\local\\programs\\python\\python313\\lib\\site-packages (from pandas) (2.9.0.post0)\n",
      "Requirement already satisfied: pytz>=2020.1 in c:\\users\\hamza\\appdata\\local\\programs\\python\\python313\\lib\\site-packages (from pandas) (2025.1)\n",
      "Requirement already satisfied: tzdata>=2022.7 in c:\\users\\hamza\\appdata\\local\\programs\\python\\python313\\lib\\site-packages (from pandas) (2025.1)\n",
      "Requirement already satisfied: six>=1.5 in c:\\users\\hamza\\appdata\\local\\programs\\python\\python313\\lib\\site-packages (from python-dateutil>=2.8.2->pandas) (1.17.0)\n"
     ]
    }
   ],
   "source": [
    "!pip install pandas\n",
    "import pandas as pd"
   ]
  },
  {
   "cell_type": "code",
   "execution_count": 164,
   "id": "91cb4c9a-0cb9-4c69-be83-610cad0c53c6",
   "metadata": {},
   "outputs": [],
   "source": [
    "import requests\n",
    "from datetime import datetime, timedelta\n",
    "from pytz import timezone\n",
    "import time\n",
    "import dotenv\n",
    "import os "
   ]
  },
  {
   "cell_type": "markdown",
   "id": "48db5432-2f9e-4969-8b95-1dcfb1ee9777",
   "metadata": {},
   "source": [
    "### Creating Dataframe with Airports info extracted using API"
   ]
  },
  {
   "cell_type": "code",
   "execution_count": 165,
   "id": "4141b5f7-c254-4b71-911c-44c8ca9b20b1",
   "metadata": {},
   "outputs": [
    {
     "data": {
      "text/plain": [
       "True"
      ]
     },
     "execution_count": 165,
     "metadata": {},
     "output_type": "execute_result"
    }
   ],
   "source": [
    "dotenv.load_dotenv()"
   ]
  },
  {
   "cell_type": "code",
   "execution_count": 166,
   "id": "c716b7aa-d2f9-4e6e-92d6-86dcad615efc",
   "metadata": {},
   "outputs": [],
   "source": [
    "schema = \"ganz\"\n",
    "host = \"127.0.0.1\"\n",
    "user = os.environ['user_name']\n",
    "password = os.environ['MYSQL_password']\n",
    "port = 3306\n",
    "\n",
    "connection_string = f'mysql+pymysql://{user}:{password}@{host}:{port}/{schema}'"
   ]
  },
  {
   "cell_type": "code",
   "execution_count": 167,
   "id": "fec7aace-61ca-4c7f-a757-de90608066cf",
   "metadata": {},
   "outputs": [],
   "source": [
    "def airports(lat, lon):               \n",
    "                                        #Call this function with list of lat and lon even if it's just 1 value.\n",
    "\n",
    "  url = \"https://aerodatabox.p.rapidapi.com/airports/search/location\"\n",
    "\n",
    "  headers = {\n",
    "        \"x-rapidapi-key\": os.environ['Airports_Flights_API'],\n",
    "        \"x-rapidapi-host\": \"aerodatabox.p.rapidapi.com\"\n",
    "    }\n",
    "  \n",
    "  # Initializing airport_df to an empty DataFrame to ensure it's always defined\n",
    "  city_airport_df = pd.DataFrame() \n",
    "  airports_list= []\n",
    "  for lat, lon in zip(lat, lon):\n",
    "\n",
    "      #querystring - lat and lon values were being passed incorrectly before\n",
    "      querystring = {\"lat\":lat,\"lon\":lon,\"radiusKm\":\"50\",\"limit\":\"10\",\"withFlightInfoOnly\":\"true\"}\n",
    "      \n",
    "      # Add a fixed 3-second delay before each request\n",
    "      time.sleep(3)  # Sleep for 3 seconds before sending the request\n",
    "\n",
    "      response = requests.get(url, headers=headers, params=querystring)\n",
    "      \n",
    "      if response.status_code == 200:\n",
    "        airport_json = response.json() # Getting the json data from the response\n",
    "        airport_df= pd.json_normalize(airport_json.get('items',[]))\n",
    "        airport_df.rename(columns= {'municipalityName':'City', 'name':'Airport_Name', 'shortName':'Short_Name', 'icao':'ICAO','countryCode':'Country_Code'\n",
    "                                   , 'location.lat': 'Location_lat', 'location.lon':'Location_lon'}, inplace= True)\n",
    "  \n",
    "        #Append\n",
    "        airports_list.append(airport_df)\n",
    "  #Conactinate the data of all cities\n",
    "  city_airport_df = pd.concat(airports_list, ignore_index=True)\n",
    "\n",
    "\n",
    "  return (city_airport_df)"
   ]
  },
  {
   "cell_type": "code",
   "execution_count": 168,
   "id": "f3623910-ff30-431f-966c-9cc543d7285e",
   "metadata": {},
   "outputs": [],
   "source": [
    "cities= pd.read_sql('SELECT City_id, City, Latitude, Longitude FROM cities', con= connection_string)"
   ]
  },
  {
   "cell_type": "code",
   "execution_count": 169,
   "id": "c31584ca-9999-4043-9939-de48b8c795ce",
   "metadata": {},
   "outputs": [
    {
     "data": {
      "text/plain": [
       "([52.52, 53.55, 48.1375], [13.405, 10.0, 11.575])"
      ]
     },
     "execution_count": 169,
     "metadata": {},
     "output_type": "execute_result"
    }
   ],
   "source": [
    "lat= cities['Latitude'].to_list()\n",
    "lon= cities['Longitude'].to_list()\n",
    "lat,lon"
   ]
  },
  {
   "cell_type": "code",
   "execution_count": 170,
   "id": "12b9ab81-bde6-4131-8032-114b6e18a47e",
   "metadata": {},
   "outputs": [],
   "source": [
    "airports_df= airports(lat,lon)"
   ]
  },
  {
   "cell_type": "code",
   "execution_count": 171,
   "id": "d9b8d472-f96b-4816-b8cf-e08bd8a5d6d4",
   "metadata": {},
   "outputs": [],
   "source": [
    "airports_df.drop(columns= ['iata','timeZone'], inplace= True)"
   ]
  },
  {
   "cell_type": "code",
   "execution_count": 172,
   "id": "b38fcde2-4fa0-4042-a7ed-4f350a0ed872",
   "metadata": {},
   "outputs": [
    {
     "data": {
      "text/html": [
       "<div>\n",
       "<style scoped>\n",
       "    .dataframe tbody tr th:only-of-type {\n",
       "        vertical-align: middle;\n",
       "    }\n",
       "\n",
       "    .dataframe tbody tr th {\n",
       "        vertical-align: top;\n",
       "    }\n",
       "\n",
       "    .dataframe thead th {\n",
       "        text-align: right;\n",
       "    }\n",
       "</style>\n",
       "<table border=\"1\" class=\"dataframe\">\n",
       "  <thead>\n",
       "    <tr style=\"text-align: right;\">\n",
       "      <th></th>\n",
       "      <th>ICAO</th>\n",
       "      <th>Airport_Name</th>\n",
       "      <th>Short_Name</th>\n",
       "      <th>City</th>\n",
       "      <th>Country_Code</th>\n",
       "      <th>Location_lat</th>\n",
       "      <th>Location_lon</th>\n",
       "    </tr>\n",
       "  </thead>\n",
       "  <tbody>\n",
       "    <tr>\n",
       "      <th>0</th>\n",
       "      <td>EDDT</td>\n",
       "      <td>Berlin -Tegel</td>\n",
       "      <td>-Tegel</td>\n",
       "      <td>Berlin</td>\n",
       "      <td>DE</td>\n",
       "      <td>52.55970</td>\n",
       "      <td>13.287699</td>\n",
       "    </tr>\n",
       "    <tr>\n",
       "      <th>1</th>\n",
       "      <td>EDDB</td>\n",
       "      <td>Berlin Brandenburg</td>\n",
       "      <td>Brandenburg</td>\n",
       "      <td>Berlin</td>\n",
       "      <td>DE</td>\n",
       "      <td>52.35139</td>\n",
       "      <td>13.493889</td>\n",
       "    </tr>\n",
       "    <tr>\n",
       "      <th>2</th>\n",
       "      <td>EDDH</td>\n",
       "      <td>Hamburg</td>\n",
       "      <td>Hamburg</td>\n",
       "      <td>Hamburg</td>\n",
       "      <td>DE</td>\n",
       "      <td>53.63040</td>\n",
       "      <td>9.988229</td>\n",
       "    </tr>\n",
       "    <tr>\n",
       "      <th>3</th>\n",
       "      <td>EDDM</td>\n",
       "      <td>Munich</td>\n",
       "      <td>Munich</td>\n",
       "      <td>Munich</td>\n",
       "      <td>DE</td>\n",
       "      <td>48.35380</td>\n",
       "      <td>11.786100</td>\n",
       "    </tr>\n",
       "  </tbody>\n",
       "</table>\n",
       "</div>"
      ],
      "text/plain": [
       "   ICAO        Airport_Name   Short_Name     City Country_Code  Location_lat  \\\n",
       "0  EDDT       Berlin -Tegel       -Tegel   Berlin           DE      52.55970   \n",
       "1  EDDB  Berlin Brandenburg  Brandenburg   Berlin           DE      52.35139   \n",
       "2  EDDH             Hamburg      Hamburg  Hamburg           DE      53.63040   \n",
       "3  EDDM              Munich       Munich   Munich           DE      48.35380   \n",
       "\n",
       "   Location_lon  \n",
       "0     13.287699  \n",
       "1     13.493889  \n",
       "2      9.988229  \n",
       "3     11.786100  "
      ]
     },
     "execution_count": 172,
     "metadata": {},
     "output_type": "execute_result"
    }
   ],
   "source": [
    "airports_df"
   ]
  },
  {
   "cell_type": "markdown",
   "id": "d0b5b2c2-5f87-4aca-a481-ca8dcf3b6f07",
   "metadata": {},
   "source": [
    "### Pushing info to SQL database"
   ]
  },
  {
   "cell_type": "code",
   "execution_count": 173,
   "id": "4bb002eb-e065-4b1a-af4e-1bbc0e5ff884",
   "metadata": {},
   "outputs": [
    {
     "data": {
      "text/plain": [
       "4"
      ]
     },
     "execution_count": 173,
     "metadata": {},
     "output_type": "execute_result"
    }
   ],
   "source": [
    "airports_df.to_sql('airports',\n",
    "                   if_exists= 'append',\n",
    "                   con= connection_string,\n",
    "                      index= False                   \n",
    ")"
   ]
  },
  {
   "cell_type": "markdown",
   "id": "e213b225-9ac6-48fe-9f18-a7e4ad827043",
   "metadata": {},
   "source": [
    "### Creating Database with flights info extracted using API:"
   ]
  },
  {
   "cell_type": "code",
   "execution_count": 175,
   "id": "16e73114-ae6a-4fcd-a6f7-900b3a979ee2",
   "metadata": {},
   "outputs": [],
   "source": [
    "def tomorrows_flight_arrivals(icao_list):\n",
    "    api_key = os.environ['Airports_Flights_API']\n",
    "    berlin_timezone = timezone('Europe/Berlin')\n",
    "    today = datetime.now(berlin_timezone).date()\n",
    "    tomorrow = today + timedelta(days=1)\n",
    "\n",
    "    list_for_arrivals_df = []\n",
    "\n",
    "    for icao in icao_list:\n",
    "        print(f\"Processing ICAO: {icao}\")\n",
    "\n",
    "        times = [[\"00:00\", \"11:59\"], [\"12:00\", \"23:59\"]]\n",
    "\n",
    "        for time_period in times:\n",
    "            url = f\"https://aerodatabox.p.rapidapi.com/flights/airports/icao/{icao}/{tomorrow}T{time_period[0]}/{tomorrow}T{time_period[1]}\"\n",
    "\n",
    "            querystring = {\"direction\": \"Arrival\", \"withCancelled\": \"false\"}\n",
    "\n",
    "            headers = {\n",
    "                \"X-RapidAPI-Key\": api_key,\n",
    "                \"X-RapidAPI-Host\": \"aerodatabox.p.rapidapi.com\"\n",
    "            }\n",
    "\n",
    "            response = requests.get(url, headers=headers, params=querystring)\n",
    "\n",
    "            if response.status_code == 429:\n",
    "                print(f\"Rate limit exceeded for ICAO {icao}. Waiting before retrying...\")\n",
    "                retry_after = response.headers.get('Retry-After')\n",
    "                if retry_after:\n",
    "                    time.sleep(int(retry_after))\n",
    "                else:\n",
    "                    time.sleep(60)  # Default to 60 seconds if 'Retry-After' is not provided\n",
    "                response = requests.get(url, headers=headers, params=querystring)\n",
    "            \n",
    "            if response.status_code != 200:\n",
    "                print(f\"Error with response for ICAO {icao}: {response.status_code}\")\n",
    "                continue\n",
    "\n",
    "            try:\n",
    "                flights_resp = response.json()\n",
    "            except ValueError as e:\n",
    "                print(f\"Failed to decode JSON for ICAO {icao}: {e}\")\n",
    "                continue\n",
    "\n",
    "            if 'arrivals' in flights_resp and flights_resp['arrivals']:\n",
    "                arrivals_df = pd.json_normalize(flights_resp[\"arrivals\"])[\n",
    "                    [\"number\", \"airline.name\", \"movement.scheduledTime.local\", \"movement.terminal\", \"movement.airport.name\", \"movement.airport.icao\"]]\n",
    "                arrivals_df = arrivals_df.rename(columns={\n",
    "                    \"number\": \"Flight_number\",\n",
    "                    \"airline.name\": \"Airline\",\n",
    "                    \"movement.scheduledTime.local\": \"Local_arrival_time\",\n",
    "                    \"movement.terminal\": \"Arrival_terminal\",\n",
    "                    \"movement.airport.name\": \"Departure_city\",\n",
    "                    \"movement.airport.icao\": \"Departure_airport_ICAO\"\n",
    "                })\n",
    "                arrivals_df[\"Arrival_airport_ICAO\"] = icao\n",
    "                arrivals_df[\"Data_retrieved_on\"] = datetime.now(berlin_timezone).strftime(\"%Y-%m-%d %H:%M:%S\")\n",
    "\n",
    "                arrivals_df[\"Local_arrival_time\"] = arrivals_df[\"Local_arrival_time\"].str.split(\"+\").str[0]\n",
    "\n",
    "                list_for_arrivals_df.append(arrivals_df)\n",
    "            else:\n",
    "                print(f\"No arrivals found for ICAO {icao}\")\n",
    "\n",
    "    if list_for_arrivals_df:\n",
    "        return pd.concat(list_for_arrivals_df, ignore_index=True)\n",
    "    else:\n",
    "        print(\"No arrivals data found for any ICAOs.\")\n",
    "        return pd.DataFrame()\n"
   ]
  },
  {
   "cell_type": "code",
   "execution_count": 176,
   "id": "6d7574a0-0e42-4a4d-9e9e-83bc7b008ed8",
   "metadata": {},
   "outputs": [],
   "source": [
    "icaos = pd.read_sql('select ICAO from airports', con= connection_string)\n"
   ]
  },
  {
   "cell_type": "code",
   "execution_count": 177,
   "id": "64b654fc-eeb3-4025-80aa-162ee517bc6d",
   "metadata": {},
   "outputs": [
    {
     "data": {
      "text/plain": [
       "['EDDB', 'EDDH', 'EDDM', 'EDDT']"
      ]
     },
     "execution_count": 177,
     "metadata": {},
     "output_type": "execute_result"
    }
   ],
   "source": [
    "icao_list= icaos['ICAO'].to_list()\n",
    "icao_list"
   ]
  },
  {
   "cell_type": "code",
   "execution_count": 178,
   "id": "3457caca-4502-41c6-9b3f-bf118169e9e9",
   "metadata": {},
   "outputs": [
    {
     "name": "stdout",
     "output_type": "stream",
     "text": [
      "Processing ICAO: EDDB\n",
      "Processing ICAO: EDDH\n",
      "Processing ICAO: EDDM\n",
      "Processing ICAO: EDDT\n",
      "Error with response for ICAO EDDT: 204\n",
      "Error with response for ICAO EDDT: 204\n"
     ]
    }
   ],
   "source": [
    "flights_df= tomorrows_flight_arrivals(icao_list)"
   ]
  },
  {
   "cell_type": "code",
   "execution_count": 179,
   "id": "aee1a552-7117-4217-94f7-d9c0e336d654",
   "metadata": {},
   "outputs": [
    {
     "data": {
      "text/html": [
       "<div>\n",
       "<style scoped>\n",
       "    .dataframe tbody tr th:only-of-type {\n",
       "        vertical-align: middle;\n",
       "    }\n",
       "\n",
       "    .dataframe tbody tr th {\n",
       "        vertical-align: top;\n",
       "    }\n",
       "\n",
       "    .dataframe thead th {\n",
       "        text-align: right;\n",
       "    }\n",
       "</style>\n",
       "<table border=\"1\" class=\"dataframe\">\n",
       "  <thead>\n",
       "    <tr style=\"text-align: right;\">\n",
       "      <th></th>\n",
       "      <th>Flight_number</th>\n",
       "      <th>Airline</th>\n",
       "      <th>Local_arrival_time</th>\n",
       "      <th>Arrival_terminal</th>\n",
       "      <th>Departure_city</th>\n",
       "      <th>Departure_airport_ICAO</th>\n",
       "      <th>Arrival_airport_ICAO</th>\n",
       "      <th>Data_retrieved_on</th>\n",
       "    </tr>\n",
       "  </thead>\n",
       "  <tbody>\n",
       "    <tr>\n",
       "      <th>0</th>\n",
       "      <td>HU 489</td>\n",
       "      <td>Hainan</td>\n",
       "      <td>2025-04-03 06:45</td>\n",
       "      <td>1</td>\n",
       "      <td>Beijing</td>\n",
       "      <td>ZBAA</td>\n",
       "      <td>EDDB</td>\n",
       "      <td>2025-04-02 19:51:44</td>\n",
       "    </tr>\n",
       "    <tr>\n",
       "      <th>1</th>\n",
       "      <td>XQ 1774</td>\n",
       "      <td>Sun Express</td>\n",
       "      <td>2025-04-03 06:45</td>\n",
       "      <td>1</td>\n",
       "      <td>COV</td>\n",
       "      <td>LPCV</td>\n",
       "      <td>EDDB</td>\n",
       "      <td>2025-04-02 19:51:44</td>\n",
       "    </tr>\n",
       "    <tr>\n",
       "      <th>2</th>\n",
       "      <td>UA 962</td>\n",
       "      <td>United</td>\n",
       "      <td>2025-04-03 07:15</td>\n",
       "      <td>1</td>\n",
       "      <td>Newark</td>\n",
       "      <td>KEWR</td>\n",
       "      <td>EDDB</td>\n",
       "      <td>2025-04-02 19:51:44</td>\n",
       "    </tr>\n",
       "    <tr>\n",
       "      <th>3</th>\n",
       "      <td>5F 611</td>\n",
       "      <td>Fly One</td>\n",
       "      <td>2025-04-03 07:20</td>\n",
       "      <td>1</td>\n",
       "      <td>Chisinau</td>\n",
       "      <td>NaN</td>\n",
       "      <td>EDDB</td>\n",
       "      <td>2025-04-02 19:51:44</td>\n",
       "    </tr>\n",
       "    <tr>\n",
       "      <th>4</th>\n",
       "      <td>QR 79</td>\n",
       "      <td>Qatar</td>\n",
       "      <td>2025-04-03 07:25</td>\n",
       "      <td>1</td>\n",
       "      <td>Doha</td>\n",
       "      <td>OTHH</td>\n",
       "      <td>EDDB</td>\n",
       "      <td>2025-04-02 19:51:44</td>\n",
       "    </tr>\n",
       "    <tr>\n",
       "      <th>...</th>\n",
       "      <td>...</td>\n",
       "      <td>...</td>\n",
       "      <td>...</td>\n",
       "      <td>...</td>\n",
       "      <td>...</td>\n",
       "      <td>...</td>\n",
       "      <td>...</td>\n",
       "      <td>...</td>\n",
       "    </tr>\n",
       "    <tr>\n",
       "      <th>1059</th>\n",
       "      <td>LH 2445</td>\n",
       "      <td>Lufthansa</td>\n",
       "      <td>2025-04-03 22:55</td>\n",
       "      <td>2</td>\n",
       "      <td>Copenhagen</td>\n",
       "      <td>EKCH</td>\n",
       "      <td>EDDM</td>\n",
       "      <td>2025-04-02 19:51:46</td>\n",
       "    </tr>\n",
       "    <tr>\n",
       "      <th>1060</th>\n",
       "      <td>LH 124</td>\n",
       "      <td>Lufthansa</td>\n",
       "      <td>2025-04-03 23:10</td>\n",
       "      <td>2</td>\n",
       "      <td>Frankfurt-am-Main</td>\n",
       "      <td>EDDF</td>\n",
       "      <td>EDDM</td>\n",
       "      <td>2025-04-02 19:51:46</td>\n",
       "    </tr>\n",
       "    <tr>\n",
       "      <th>1061</th>\n",
       "      <td>BA 958</td>\n",
       "      <td>British</td>\n",
       "      <td>2025-04-03 23:15</td>\n",
       "      <td>1</td>\n",
       "      <td>London</td>\n",
       "      <td>EGLL</td>\n",
       "      <td>EDDM</td>\n",
       "      <td>2025-04-02 19:51:46</td>\n",
       "    </tr>\n",
       "    <tr>\n",
       "      <th>1062</th>\n",
       "      <td>LH 2481</td>\n",
       "      <td>Lufthansa</td>\n",
       "      <td>2025-04-03 23:20</td>\n",
       "      <td>2</td>\n",
       "      <td>London</td>\n",
       "      <td>EGLL</td>\n",
       "      <td>EDDM</td>\n",
       "      <td>2025-04-02 19:51:46</td>\n",
       "    </tr>\n",
       "    <tr>\n",
       "      <th>1063</th>\n",
       "      <td>TP 556</td>\n",
       "      <td>TAP Air Portugal</td>\n",
       "      <td>2025-04-03 23:20</td>\n",
       "      <td>2</td>\n",
       "      <td>Lisbon</td>\n",
       "      <td>LPPT</td>\n",
       "      <td>EDDM</td>\n",
       "      <td>2025-04-02 19:51:46</td>\n",
       "    </tr>\n",
       "  </tbody>\n",
       "</table>\n",
       "<p>1064 rows × 8 columns</p>\n",
       "</div>"
      ],
      "text/plain": [
       "     Flight_number           Airline Local_arrival_time Arrival_terminal  \\\n",
       "0           HU 489            Hainan   2025-04-03 06:45                1   \n",
       "1          XQ 1774       Sun Express   2025-04-03 06:45                1   \n",
       "2           UA 962            United   2025-04-03 07:15                1   \n",
       "3           5F 611           Fly One   2025-04-03 07:20                1   \n",
       "4            QR 79             Qatar   2025-04-03 07:25                1   \n",
       "...            ...               ...                ...              ...   \n",
       "1059       LH 2445         Lufthansa   2025-04-03 22:55                2   \n",
       "1060        LH 124         Lufthansa   2025-04-03 23:10                2   \n",
       "1061        BA 958           British   2025-04-03 23:15                1   \n",
       "1062       LH 2481         Lufthansa   2025-04-03 23:20                2   \n",
       "1063        TP 556  TAP Air Portugal   2025-04-03 23:20                2   \n",
       "\n",
       "         Departure_city Departure_airport_ICAO Arrival_airport_ICAO  \\\n",
       "0               Beijing                   ZBAA                 EDDB   \n",
       "1                   COV                   LPCV                 EDDB   \n",
       "2                Newark                   KEWR                 EDDB   \n",
       "3              Chisinau                    NaN                 EDDB   \n",
       "4                  Doha                   OTHH                 EDDB   \n",
       "...                 ...                    ...                  ...   \n",
       "1059         Copenhagen                   EKCH                 EDDM   \n",
       "1060  Frankfurt-am-Main                   EDDF                 EDDM   \n",
       "1061             London                   EGLL                 EDDM   \n",
       "1062             London                   EGLL                 EDDM   \n",
       "1063             Lisbon                   LPPT                 EDDM   \n",
       "\n",
       "        Data_retrieved_on  \n",
       "0     2025-04-02 19:51:44  \n",
       "1     2025-04-02 19:51:44  \n",
       "2     2025-04-02 19:51:44  \n",
       "3     2025-04-02 19:51:44  \n",
       "4     2025-04-02 19:51:44  \n",
       "...                   ...  \n",
       "1059  2025-04-02 19:51:46  \n",
       "1060  2025-04-02 19:51:46  \n",
       "1061  2025-04-02 19:51:46  \n",
       "1062  2025-04-02 19:51:46  \n",
       "1063  2025-04-02 19:51:46  \n",
       "\n",
       "[1064 rows x 8 columns]"
      ]
     },
     "execution_count": 179,
     "metadata": {},
     "output_type": "execute_result"
    }
   ],
   "source": [
    "flights_df"
   ]
  },
  {
   "cell_type": "markdown",
   "id": "3977982f-d23e-49c1-b42a-22c35d8c947b",
   "metadata": {},
   "source": [
    "### Pushing info to MYSQL"
   ]
  },
  {
   "cell_type": "code",
   "execution_count": 180,
   "id": "f3897a5b-85d6-4a34-bcaf-acd56aa8ecc8",
   "metadata": {},
   "outputs": [
    {
     "data": {
      "text/plain": [
       "1064"
      ]
     },
     "execution_count": 180,
     "metadata": {},
     "output_type": "execute_result"
    }
   ],
   "source": [
    "flights_df.to_sql('flights',\n",
    "                  if_exists= 'append',\n",
    "                  index= False,\n",
    "                  con= connection_string\n",
    ")"
   ]
  }
 ],
 "metadata": {
  "kernelspec": {
   "display_name": "Python 3 (ipykernel)",
   "language": "python",
   "name": "python3"
  },
  "language_info": {
   "codemirror_mode": {
    "name": "ipython",
    "version": 3
   },
   "file_extension": ".py",
   "mimetype": "text/x-python",
   "name": "python",
   "nbconvert_exporter": "python",
   "pygments_lexer": "ipython3",
   "version": "3.13.2"
  }
 },
 "nbformat": 4,
 "nbformat_minor": 5
}
